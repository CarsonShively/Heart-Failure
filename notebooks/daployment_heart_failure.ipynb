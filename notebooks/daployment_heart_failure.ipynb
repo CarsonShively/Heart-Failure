{
  "nbformat": 4,
  "nbformat_minor": 0,
  "metadata": {
    "colab": {
      "provenance": []
    },
    "kernelspec": {
      "name": "python3",
      "display_name": "Python 3"
    },
    "language_info": {
      "name": "python"
    }
  },
  "cells": [
    {
      "cell_type": "markdown",
      "source": [
        "# Deployment Model"
      ],
      "metadata": {
        "id": "4ESRl-hnwV8S"
      }
    },
    {
      "cell_type": "code",
      "execution_count": 27,
      "metadata": {
        "id": "Wy22czVOwJL1"
      },
      "outputs": [],
      "source": [
        "import pandas as pd\n",
        "import numpy as np\n",
        "from sklearn.model_selection import train_test_split\n",
        "from sklearn.base import BaseEstimator, TransformerMixin, OneToOneFeatureMixin\n",
        "from sklearn.pipeline import Pipeline\n",
        "from sklearn.compose import ColumnTransformer\n",
        "from sklearn.ensemble import RandomForestClassifier\n",
        "import joblib"
      ]
    },
    {
      "cell_type": "markdown",
      "source": [
        "Train on the whole dataset, no hold out set"
      ],
      "metadata": {
        "id": "_x0ll3T4xqVy"
      }
    },
    {
      "cell_type": "code",
      "source": [
        "url = \"https://raw.githubusercontent.com/CarsonShively/Heart-Failure/refs/heads/main/data/heart_failure.csv\"\n",
        "df = pd.read_csv(url)\n",
        "df.drop_duplicates(inplace=True)\n",
        "\n",
        "X = df.drop('DEATH_EVENT', axis=1)\n",
        "y = df['DEATH_EVENT']\n"
      ],
      "metadata": {
        "id": "xopNl52Ewb4e"
      },
      "execution_count": 28,
      "outputs": []
    },
    {
      "cell_type": "markdown",
      "source": [
        "# Feature Engineering"
      ],
      "metadata": {
        "id": "h5CTdsBwwiFc"
      }
    },
    {
      "cell_type": "code",
      "source": [
        "class FeatureEngineer(BaseEstimator, TransformerMixin):\n",
        "    def __init__(self):\n",
        "        self._transform_output = None\n",
        "\n",
        "    def fit(self, X, y=None):\n",
        "        return self\n",
        "\n",
        "    def transform(self, X):\n",
        "        X = X.copy()\n",
        "\n",
        "        X['ef_to_creatinine'] = X['ejection_fraction'] / X['serum_creatinine']\n",
        "        X['ef_drop_per_age'] = (100 - X['ejection_fraction']) / X['age']\n",
        "        X['ef_per_time'] = X['ejection_fraction'] / X['time']\n",
        "        X['time_x_ef'] = X['time'] * X['ejection_fraction']\n",
        "        X['creatinine_x_ef'] = X['serum_creatinine'] * X['ejection_fraction']\n",
        "        X['time_x_creatinine'] = X['time'] * X['serum_creatinine']\n",
        "        X.drop(columns=['diabetes', 'anaemia', 'smoking', 'sex', 'high_blood_pressure'], errors='ignore', inplace=True)\n",
        "\n",
        "        X.replace([np.inf, -np.inf], np.nan, inplace=True)\n",
        "\n",
        "        if self._transform_output == \"pandas\":\n",
        "            return pd.DataFrame(X, columns=X.columns, index=X.index)\n",
        "        else:\n",
        "            return X\n",
        "\n",
        "    def set_output(self, transform=None):\n",
        "        self._transform_output = transform\n",
        "        return self\n",
        "\n",
        "FE_pipeline = Pipeline(steps=[\n",
        "    ('FE', FeatureEngineer()),\n",
        "])\n",
        "FE_pipeline.set_output(transform=\"pandas\")\n",
        "_ = FE_pipeline"
      ],
      "metadata": {
        "id": "wrJlDzSywn8S"
      },
      "execution_count": 29,
      "outputs": []
    },
    {
      "cell_type": "markdown",
      "source": [
        "# Numeric Features"
      ],
      "metadata": {
        "id": "lhvlNXdUwosa"
      }
    },
    {
      "cell_type": "code",
      "source": [
        "numeric_features = [\n",
        "    'age',\n",
        "    'creatinine_phosphokinase',\n",
        "    'ejection_fraction',\n",
        "    'platelets',\n",
        "    'serum_creatinine',\n",
        "    'serum_sodium',\n",
        "    'time',\n",
        "    'ef_to_creatinine',\n",
        "    'ef_drop_per_age',\n",
        "    'ef_per_time',\n",
        "    'time_x_ef',\n",
        "    'creatinine_x_ef',\n",
        "    'time_x_creatinine',\n",
        "]\n",
        "\n",
        "class CoerceToFloat(BaseEstimator, TransformerMixin, OneToOneFeatureMixin):\n",
        "    def __init__(self, columns):\n",
        "        self.columns = columns\n",
        "\n",
        "    def fit(self, X, y=None):\n",
        "        return self\n",
        "\n",
        "    def transform(self, X):\n",
        "        X = X.copy()\n",
        "        for col in self.columns:\n",
        "            X[col] = X[col].astype(float)\n",
        "        return X\n",
        "\n",
        "class NumericImputer(BaseEstimator, TransformerMixin, OneToOneFeatureMixin):\n",
        "    def __init__(self, columns):\n",
        "        self.columns = columns\n",
        "\n",
        "    def fit(self, X, y=None):\n",
        "        X = X.copy()\n",
        "        self.medians_ = {\n",
        "            col: X[col].median(skipna=True)\n",
        "            for col in self.columns\n",
        "        }\n",
        "        return self\n",
        "\n",
        "    def transform(self, X):\n",
        "        X = X.copy()\n",
        "        for col in self.columns:\n",
        "            X[col] = X[col].fillna(self.medians_[col])\n",
        "        return X\n",
        "\n",
        "numeric_pipeline = Pipeline([\n",
        "    ('float', CoerceToFloat(columns=numeric_features)),\n",
        "    ('imputer', NumericImputer(columns=numeric_features)),\n",
        "])\n",
        "\n",
        "numeric_pipeline.set_output(transform=\"pandas\")\n",
        "_ = numeric_pipeline"
      ],
      "metadata": {
        "id": "dg6t-qCgwtY3"
      },
      "execution_count": 30,
      "outputs": []
    },
    {
      "cell_type": "markdown",
      "source": [
        "# Pipeline"
      ],
      "metadata": {
        "id": "STyUML6NwxKg"
      }
    },
    {
      "cell_type": "code",
      "source": [
        "preprocessor = ColumnTransformer([\n",
        "    ('num', numeric_pipeline, numeric_features)\n",
        "])\n",
        "preprocessor.set_output(transform='pandas')\n",
        "\n",
        "best_params = {\n",
        "    'n_estimators': 586,\n",
        "    'max_depth': None,\n",
        "    'min_samples_split': 4,\n",
        "    'min_samples_leaf': 10,\n",
        "    'max_features': 0.46769332346688064,\n",
        "    'bootstrap': False,\n",
        "    'criterion': 'gini',\n",
        "    'class_weight': 'balanced',\n",
        "    'random_state': 42,\n",
        "    'n_jobs': -1\n",
        "}\n",
        "\n",
        "if not best_params.get('bootstrap', True):\n",
        "    best_params.pop('max_samples', None)\n",
        "\n",
        "best_rf = RandomForestClassifier(**best_params)\n",
        "\n",
        "full_pipeline = Pipeline([\n",
        "    ('feature_engineering', FeatureEngineer()),\n",
        "    ('preprocessor', preprocessor),\n",
        "    ('classifier', best_rf)\n",
        "])\n",
        "full_pipeline.set_output(transform='pandas')\n",
        "_ = full_pipeline"
      ],
      "metadata": {
        "id": "ea16By9-wzLk"
      },
      "execution_count": 31,
      "outputs": []
    },
    {
      "cell_type": "markdown",
      "source": [
        "# Deploy"
      ],
      "metadata": {
        "id": "8w6hcfup6VtF"
      }
    },
    {
      "cell_type": "code",
      "source": [
        "full_pipeline.fit(X, y)\n",
        "\n",
        "joblib.dump(full_pipeline, \"model_pipeline.pkl\")"
      ],
      "metadata": {
        "colab": {
          "base_uri": "https://localhost:8080/"
        },
        "id": "1evNqxlC6Fzp",
        "outputId": "778b8bdd-3970-40ec-d068-7b7789db95af"
      },
      "execution_count": 32,
      "outputs": [
        {
          "output_type": "execute_result",
          "data": {
            "text/plain": [
              "['model_pipeline.pkl']"
            ]
          },
          "metadata": {},
          "execution_count": 32
        }
      ]
    }
  ]
}